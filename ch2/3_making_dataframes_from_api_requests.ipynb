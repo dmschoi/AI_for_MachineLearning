{
  "cells": [
    {
      "cell_type": "markdown",
      "metadata": {
        "id": "view-in-github",
        "colab_type": "text"
      },
      "source": [
        "<a href=\"https://colab.research.google.com/github/dmschoi/ML_test/blob/main/ch2/3_making_dataframes_from_api_requests.ipynb\" target=\"_parent\"><img src=\"https://colab.research.google.com/assets/colab-badge.svg\" alt=\"Open In Colab\"/></a>"
      ]
    },
    {
      "cell_type": "markdown",
      "metadata": {
        "id": "ekpxOLewp1KJ"
      },
      "source": [
        "# Making Pandas DataFrames from API Requests\n",
        "In this example, we will use the U.S. Geological Survey's API to grab a JSON object of earthquake data and convert it to a `pandas.DataFrame`.\n",
        "\n",
        "USGS API: https://earthquake.usgs.gov/fdsnws/event/1/"
      ]
    },
    {
      "cell_type": "markdown",
      "metadata": {
        "id": "-X4eHHTop1KO"
      },
      "source": [
        "### Get Data from API"
      ]
    },
    {
      "cell_type": "code",
      "execution_count": null,
      "metadata": {
        "id": "Eyvlrg7pp1KQ",
        "outputId": "bdc67034-403b-4622-ce2d-0d684480934a",
        "colab": {
          "base_uri": "https://localhost:8080/"
        }
      },
      "outputs": [
        {
          "output_type": "execute_result",
          "data": {
            "text/plain": [
              "200"
            ]
          },
          "metadata": {},
          "execution_count": 1
        }
      ],
      "source": [
        "import datetime as dt\n",
        "import pandas as pd\n",
        "import requests\n",
        "\n",
        "yesterday = dt.date.today() - dt.timedelta(days=1)\n",
        "api = 'https://earthquake.usgs.gov/fdsnws/event/1/query'\n",
        "payload = {\n",
        "    'format': 'geojson',\n",
        "    'starttime': yesterday - dt.timedelta(days=30),\n",
        "    'endtime': yesterday\n",
        "}\n",
        "response = requests.get(api, params=payload)\n",
        "\n",
        "# let's make sure the request was OK\n",
        "response.status_code"
      ]
    },
    {
      "cell_type": "markdown",
      "metadata": {
        "id": "Ek8BI7Bnp1KU"
      },
      "source": [
        "Response of 200 means OK, so we can pull the data out of the result. Since we asked the API for a JSON payload, we can extract it from the response with the `json()` method.\n",
        "\n",
        "### Isolate the Data from the JSON Response\n",
        "We need to check the structures of the response data to know where our data is."
      ]
    },
    {
      "cell_type": "code",
      "execution_count": null,
      "metadata": {
        "id": "-ebTO-MNp1KV",
        "outputId": "3118d005-2c7e-4b4d-e240-68fada2e66e2",
        "colab": {
          "base_uri": "https://localhost:8080/"
        }
      },
      "outputs": [
        {
          "output_type": "execute_result",
          "data": {
            "text/plain": [
              "dict_keys(['type', 'metadata', 'features', 'bbox'])"
            ]
          },
          "metadata": {},
          "execution_count": 2
        }
      ],
      "source": [
        "earthquake_json = response.json()\n",
        "earthquake_json.keys()"
      ]
    },
    {
      "cell_type": "markdown",
      "metadata": {
        "id": "wB8I_MTDp1KW"
      },
      "source": [
        "The USGS API provides information about our request in the `metadata` key. Note that your result will be different, regardless of the date range you chose, because the API includes a timestamp for when the data was pulled:"
      ]
    },
    {
      "cell_type": "code",
      "execution_count": null,
      "metadata": {
        "id": "qGQcu3i4p1KX",
        "outputId": "67a54242-8d3c-4124-b84b-e401dfa87134",
        "colab": {
          "base_uri": "https://localhost:8080/"
        }
      },
      "outputs": [
        {
          "output_type": "execute_result",
          "data": {
            "text/plain": [
              "{'generated': 1726118919000,\n",
              " 'url': 'https://earthquake.usgs.gov/fdsnws/event/1/query?format=geojson&starttime=2024-08-12&endtime=2024-09-11',\n",
              " 'title': 'USGS Earthquakes',\n",
              " 'status': 200,\n",
              " 'api': '1.14.1',\n",
              " 'count': 9774}"
            ]
          },
          "metadata": {},
          "execution_count": 3
        }
      ],
      "source": [
        "earthquake_json['metadata']"
      ]
    },
    {
      "cell_type": "markdown",
      "metadata": {
        "id": "aMc2Zyeap1KZ"
      },
      "source": [
        "Each element in the JSON array `features` is a row of data for our dataframe."
      ]
    },
    {
      "cell_type": "code",
      "execution_count": null,
      "metadata": {
        "id": "yI2lQOYSp1Ka",
        "outputId": "99db3a41-0153-45e3-faa5-19169567714a",
        "colab": {
          "base_uri": "https://localhost:8080/"
        }
      },
      "outputs": [
        {
          "output_type": "execute_result",
          "data": {
            "text/plain": [
              "list"
            ]
          },
          "metadata": {},
          "execution_count": 4
        }
      ],
      "source": [
        "type(earthquake_json['features'])"
      ]
    },
    {
      "cell_type": "markdown",
      "metadata": {
        "id": "V0seNrdnp1Kb"
      },
      "source": [
        "Your data will be different depending on the date you run this."
      ]
    },
    {
      "cell_type": "code",
      "execution_count": null,
      "metadata": {
        "id": "DkwUHttap1Kb",
        "outputId": "86ce6014-3291-4035-dfdc-d4bf40fdf78f",
        "colab": {
          "base_uri": "https://localhost:8080/"
        }
      },
      "outputs": [
        {
          "output_type": "execute_result",
          "data": {
            "text/plain": [
              "{'type': 'Feature',\n",
              " 'properties': {'mag': 1.8,\n",
              "  'place': '23 km SE of Alamo, Nevada',\n",
              "  'time': 1726012794250,\n",
              "  'updated': 1726016471537,\n",
              "  'tz': None,\n",
              "  'url': 'https://earthquake.usgs.gov/earthquakes/eventpage/nn00884519',\n",
              "  'detail': 'https://earthquake.usgs.gov/fdsnws/event/1/query?eventid=nn00884519&format=geojson',\n",
              "  'felt': 1,\n",
              "  'cdi': 2,\n",
              "  'mmi': None,\n",
              "  'alert': None,\n",
              "  'status': 'reviewed',\n",
              "  'tsunami': 0,\n",
              "  'sig': 50,\n",
              "  'net': 'nn',\n",
              "  'code': '00884519',\n",
              "  'ids': ',nn00884519,',\n",
              "  'sources': ',nn,',\n",
              "  'types': ',dyfi,origin,phase-data,',\n",
              "  'nst': 8,\n",
              "  'dmin': 0.205,\n",
              "  'rms': 0.1706,\n",
              "  'gap': 107.93,\n",
              "  'magType': 'ml',\n",
              "  'type': 'earthquake',\n",
              "  'title': 'M 1.8 - 23 km SE of Alamo, Nevada'},\n",
              " 'geometry': {'type': 'Point', 'coordinates': [-114.9876, 37.2084, 0]},\n",
              " 'id': 'nn00884519'}"
            ]
          },
          "metadata": {},
          "execution_count": 5
        }
      ],
      "source": [
        "earthquake_json['features'][0]"
      ]
    },
    {
      "cell_type": "markdown",
      "metadata": {
        "id": "cxqe3scZp1Kc"
      },
      "source": [
        "### Convert to DataFrame\n",
        "We need to grab the `properties` section out of every entry in the `features` JSON array to create our dataframe."
      ]
    },
    {
      "cell_type": "code",
      "execution_count": null,
      "metadata": {
        "id": "LETAJoatp1Kc",
        "outputId": "6982708a-0d06-45d1-8774-a8af1d9f6863",
        "colab": {
          "base_uri": "https://localhost:8080/",
          "height": 619
        }
      },
      "outputs": [
        {
          "output_type": "execute_result",
          "data": {
            "text/plain": [
              "    mag                          place           time        updated    tz  \\\n",
              "0  1.80      23 km SE of Alamo, Nevada  1726012794250  1726016471537  None   \n",
              "1  5.00  South Sandwich Islands region  1726012642799  1726013717040  None   \n",
              "2  0.19    10 km NW of The Geysers, CA  1726012614740  1726014263814  None   \n",
              "3  1.07    5 km NNW of Lytle Creek, CA  1726012423840  1726085242912  None   \n",
              "4  5.70  South Sandwich Islands region  1726012239102  1726098861674  None   \n",
              "\n",
              "                                                 url  \\\n",
              "0  https://earthquake.usgs.gov/earthquakes/eventp...   \n",
              "1  https://earthquake.usgs.gov/earthquakes/eventp...   \n",
              "2  https://earthquake.usgs.gov/earthquakes/eventp...   \n",
              "3  https://earthquake.usgs.gov/earthquakes/eventp...   \n",
              "4  https://earthquake.usgs.gov/earthquakes/eventp...   \n",
              "\n",
              "                                              detail  felt  cdi    mmi  ...  \\\n",
              "0  https://earthquake.usgs.gov/fdsnws/event/1/que...   1.0  2.0    NaN  ...   \n",
              "1  https://earthquake.usgs.gov/fdsnws/event/1/que...   NaN  NaN    NaN  ...   \n",
              "2  https://earthquake.usgs.gov/fdsnws/event/1/que...   NaN  NaN    NaN  ...   \n",
              "3  https://earthquake.usgs.gov/fdsnws/event/1/que...   NaN  NaN    NaN  ...   \n",
              "4  https://earthquake.usgs.gov/fdsnws/event/1/que...   NaN  NaN  3.247  ...   \n",
              "\n",
              "                       ids  sources  \\\n",
              "0             ,nn00884519,     ,nn,   \n",
              "1             ,us7000ncz7,     ,us,   \n",
              "2             ,nc75060261,     ,nc,   \n",
              "3             ,ci40730351,     ,ci,   \n",
              "4  ,at00sjmfkj,us7000ncz6,  ,at,us,   \n",
              "\n",
              "                                               types   nst     dmin     rms  \\\n",
              "0                           ,dyfi,origin,phase-data,   8.0  0.20500  0.1706   \n",
              "1                                ,origin,phase-data,  33.0  6.11000  0.9900   \n",
              "2     ,nearby-cities,origin,phase-data,scitech-link,   8.0  0.01501  0.0100   \n",
              "3     ,nearby-cities,origin,phase-data,scitech-link,  32.0  0.07425  0.1900   \n",
              "4  ,internal-origin,losspager,origin,phase-data,s...  80.0  6.11200  1.0000   \n",
              "\n",
              "      gap magType        type                                  title  \n",
              "0  107.93      ml  earthquake      M 1.8 - 23 km SE of Alamo, Nevada  \n",
              "1  122.00      mb  earthquake  M 5.0 - South Sandwich Islands region  \n",
              "2  116.00      md  earthquake    M 0.2 - 10 km NW of The Geysers, CA  \n",
              "3   41.00      ml  earthquake    M 1.1 - 5 km NNW of Lytle Creek, CA  \n",
              "4   47.00      mb  earthquake  M 5.7 - South Sandwich Islands region  \n",
              "\n",
              "[5 rows x 26 columns]"
            ],
            "text/html": [
              "\n",
              "  <div id=\"df-5d1d415e-62dc-4c3e-b0f2-4df8e92b0348\" class=\"colab-df-container\">\n",
              "    <div>\n",
              "<style scoped>\n",
              "    .dataframe tbody tr th:only-of-type {\n",
              "        vertical-align: middle;\n",
              "    }\n",
              "\n",
              "    .dataframe tbody tr th {\n",
              "        vertical-align: top;\n",
              "    }\n",
              "\n",
              "    .dataframe thead th {\n",
              "        text-align: right;\n",
              "    }\n",
              "</style>\n",
              "<table border=\"1\" class=\"dataframe\">\n",
              "  <thead>\n",
              "    <tr style=\"text-align: right;\">\n",
              "      <th></th>\n",
              "      <th>mag</th>\n",
              "      <th>place</th>\n",
              "      <th>time</th>\n",
              "      <th>updated</th>\n",
              "      <th>tz</th>\n",
              "      <th>url</th>\n",
              "      <th>detail</th>\n",
              "      <th>felt</th>\n",
              "      <th>cdi</th>\n",
              "      <th>mmi</th>\n",
              "      <th>...</th>\n",
              "      <th>ids</th>\n",
              "      <th>sources</th>\n",
              "      <th>types</th>\n",
              "      <th>nst</th>\n",
              "      <th>dmin</th>\n",
              "      <th>rms</th>\n",
              "      <th>gap</th>\n",
              "      <th>magType</th>\n",
              "      <th>type</th>\n",
              "      <th>title</th>\n",
              "    </tr>\n",
              "  </thead>\n",
              "  <tbody>\n",
              "    <tr>\n",
              "      <th>0</th>\n",
              "      <td>1.80</td>\n",
              "      <td>23 km SE of Alamo, Nevada</td>\n",
              "      <td>1726012794250</td>\n",
              "      <td>1726016471537</td>\n",
              "      <td>None</td>\n",
              "      <td>https://earthquake.usgs.gov/earthquakes/eventp...</td>\n",
              "      <td>https://earthquake.usgs.gov/fdsnws/event/1/que...</td>\n",
              "      <td>1.0</td>\n",
              "      <td>2.0</td>\n",
              "      <td>NaN</td>\n",
              "      <td>...</td>\n",
              "      <td>,nn00884519,</td>\n",
              "      <td>,nn,</td>\n",
              "      <td>,dyfi,origin,phase-data,</td>\n",
              "      <td>8.0</td>\n",
              "      <td>0.20500</td>\n",
              "      <td>0.1706</td>\n",
              "      <td>107.93</td>\n",
              "      <td>ml</td>\n",
              "      <td>earthquake</td>\n",
              "      <td>M 1.8 - 23 km SE of Alamo, Nevada</td>\n",
              "    </tr>\n",
              "    <tr>\n",
              "      <th>1</th>\n",
              "      <td>5.00</td>\n",
              "      <td>South Sandwich Islands region</td>\n",
              "      <td>1726012642799</td>\n",
              "      <td>1726013717040</td>\n",
              "      <td>None</td>\n",
              "      <td>https://earthquake.usgs.gov/earthquakes/eventp...</td>\n",
              "      <td>https://earthquake.usgs.gov/fdsnws/event/1/que...</td>\n",
              "      <td>NaN</td>\n",
              "      <td>NaN</td>\n",
              "      <td>NaN</td>\n",
              "      <td>...</td>\n",
              "      <td>,us7000ncz7,</td>\n",
              "      <td>,us,</td>\n",
              "      <td>,origin,phase-data,</td>\n",
              "      <td>33.0</td>\n",
              "      <td>6.11000</td>\n",
              "      <td>0.9900</td>\n",
              "      <td>122.00</td>\n",
              "      <td>mb</td>\n",
              "      <td>earthquake</td>\n",
              "      <td>M 5.0 - South Sandwich Islands region</td>\n",
              "    </tr>\n",
              "    <tr>\n",
              "      <th>2</th>\n",
              "      <td>0.19</td>\n",
              "      <td>10 km NW of The Geysers, CA</td>\n",
              "      <td>1726012614740</td>\n",
              "      <td>1726014263814</td>\n",
              "      <td>None</td>\n",
              "      <td>https://earthquake.usgs.gov/earthquakes/eventp...</td>\n",
              "      <td>https://earthquake.usgs.gov/fdsnws/event/1/que...</td>\n",
              "      <td>NaN</td>\n",
              "      <td>NaN</td>\n",
              "      <td>NaN</td>\n",
              "      <td>...</td>\n",
              "      <td>,nc75060261,</td>\n",
              "      <td>,nc,</td>\n",
              "      <td>,nearby-cities,origin,phase-data,scitech-link,</td>\n",
              "      <td>8.0</td>\n",
              "      <td>0.01501</td>\n",
              "      <td>0.0100</td>\n",
              "      <td>116.00</td>\n",
              "      <td>md</td>\n",
              "      <td>earthquake</td>\n",
              "      <td>M 0.2 - 10 km NW of The Geysers, CA</td>\n",
              "    </tr>\n",
              "    <tr>\n",
              "      <th>3</th>\n",
              "      <td>1.07</td>\n",
              "      <td>5 km NNW of Lytle Creek, CA</td>\n",
              "      <td>1726012423840</td>\n",
              "      <td>1726085242912</td>\n",
              "      <td>None</td>\n",
              "      <td>https://earthquake.usgs.gov/earthquakes/eventp...</td>\n",
              "      <td>https://earthquake.usgs.gov/fdsnws/event/1/que...</td>\n",
              "      <td>NaN</td>\n",
              "      <td>NaN</td>\n",
              "      <td>NaN</td>\n",
              "      <td>...</td>\n",
              "      <td>,ci40730351,</td>\n",
              "      <td>,ci,</td>\n",
              "      <td>,nearby-cities,origin,phase-data,scitech-link,</td>\n",
              "      <td>32.0</td>\n",
              "      <td>0.07425</td>\n",
              "      <td>0.1900</td>\n",
              "      <td>41.00</td>\n",
              "      <td>ml</td>\n",
              "      <td>earthquake</td>\n",
              "      <td>M 1.1 - 5 km NNW of Lytle Creek, CA</td>\n",
              "    </tr>\n",
              "    <tr>\n",
              "      <th>4</th>\n",
              "      <td>5.70</td>\n",
              "      <td>South Sandwich Islands region</td>\n",
              "      <td>1726012239102</td>\n",
              "      <td>1726098861674</td>\n",
              "      <td>None</td>\n",
              "      <td>https://earthquake.usgs.gov/earthquakes/eventp...</td>\n",
              "      <td>https://earthquake.usgs.gov/fdsnws/event/1/que...</td>\n",
              "      <td>NaN</td>\n",
              "      <td>NaN</td>\n",
              "      <td>3.247</td>\n",
              "      <td>...</td>\n",
              "      <td>,at00sjmfkj,us7000ncz6,</td>\n",
              "      <td>,at,us,</td>\n",
              "      <td>,internal-origin,losspager,origin,phase-data,s...</td>\n",
              "      <td>80.0</td>\n",
              "      <td>6.11200</td>\n",
              "      <td>1.0000</td>\n",
              "      <td>47.00</td>\n",
              "      <td>mb</td>\n",
              "      <td>earthquake</td>\n",
              "      <td>M 5.7 - South Sandwich Islands region</td>\n",
              "    </tr>\n",
              "  </tbody>\n",
              "</table>\n",
              "<p>5 rows × 26 columns</p>\n",
              "</div>\n",
              "    <div class=\"colab-df-buttons\">\n",
              "\n",
              "  <div class=\"colab-df-container\">\n",
              "    <button class=\"colab-df-convert\" onclick=\"convertToInteractive('df-5d1d415e-62dc-4c3e-b0f2-4df8e92b0348')\"\n",
              "            title=\"Convert this dataframe to an interactive table.\"\n",
              "            style=\"display:none;\">\n",
              "\n",
              "  <svg xmlns=\"http://www.w3.org/2000/svg\" height=\"24px\" viewBox=\"0 -960 960 960\">\n",
              "    <path d=\"M120-120v-720h720v720H120Zm60-500h600v-160H180v160Zm220 220h160v-160H400v160Zm0 220h160v-160H400v160ZM180-400h160v-160H180v160Zm440 0h160v-160H620v160ZM180-180h160v-160H180v160Zm440 0h160v-160H620v160Z\"/>\n",
              "  </svg>\n",
              "    </button>\n",
              "\n",
              "  <style>\n",
              "    .colab-df-container {\n",
              "      display:flex;\n",
              "      gap: 12px;\n",
              "    }\n",
              "\n",
              "    .colab-df-convert {\n",
              "      background-color: #E8F0FE;\n",
              "      border: none;\n",
              "      border-radius: 50%;\n",
              "      cursor: pointer;\n",
              "      display: none;\n",
              "      fill: #1967D2;\n",
              "      height: 32px;\n",
              "      padding: 0 0 0 0;\n",
              "      width: 32px;\n",
              "    }\n",
              "\n",
              "    .colab-df-convert:hover {\n",
              "      background-color: #E2EBFA;\n",
              "      box-shadow: 0px 1px 2px rgba(60, 64, 67, 0.3), 0px 1px 3px 1px rgba(60, 64, 67, 0.15);\n",
              "      fill: #174EA6;\n",
              "    }\n",
              "\n",
              "    .colab-df-buttons div {\n",
              "      margin-bottom: 4px;\n",
              "    }\n",
              "\n",
              "    [theme=dark] .colab-df-convert {\n",
              "      background-color: #3B4455;\n",
              "      fill: #D2E3FC;\n",
              "    }\n",
              "\n",
              "    [theme=dark] .colab-df-convert:hover {\n",
              "      background-color: #434B5C;\n",
              "      box-shadow: 0px 1px 3px 1px rgba(0, 0, 0, 0.15);\n",
              "      filter: drop-shadow(0px 1px 2px rgba(0, 0, 0, 0.3));\n",
              "      fill: #FFFFFF;\n",
              "    }\n",
              "  </style>\n",
              "\n",
              "    <script>\n",
              "      const buttonEl =\n",
              "        document.querySelector('#df-5d1d415e-62dc-4c3e-b0f2-4df8e92b0348 button.colab-df-convert');\n",
              "      buttonEl.style.display =\n",
              "        google.colab.kernel.accessAllowed ? 'block' : 'none';\n",
              "\n",
              "      async function convertToInteractive(key) {\n",
              "        const element = document.querySelector('#df-5d1d415e-62dc-4c3e-b0f2-4df8e92b0348');\n",
              "        const dataTable =\n",
              "          await google.colab.kernel.invokeFunction('convertToInteractive',\n",
              "                                                    [key], {});\n",
              "        if (!dataTable) return;\n",
              "\n",
              "        const docLinkHtml = 'Like what you see? Visit the ' +\n",
              "          '<a target=\"_blank\" href=https://colab.research.google.com/notebooks/data_table.ipynb>data table notebook</a>'\n",
              "          + ' to learn more about interactive tables.';\n",
              "        element.innerHTML = '';\n",
              "        dataTable['output_type'] = 'display_data';\n",
              "        await google.colab.output.renderOutput(dataTable, element);\n",
              "        const docLink = document.createElement('div');\n",
              "        docLink.innerHTML = docLinkHtml;\n",
              "        element.appendChild(docLink);\n",
              "      }\n",
              "    </script>\n",
              "  </div>\n",
              "\n",
              "\n",
              "<div id=\"df-90006618-4a47-41ff-bc83-e3ed5aa1e324\">\n",
              "  <button class=\"colab-df-quickchart\" onclick=\"quickchart('df-90006618-4a47-41ff-bc83-e3ed5aa1e324')\"\n",
              "            title=\"Suggest charts\"\n",
              "            style=\"display:none;\">\n",
              "\n",
              "<svg xmlns=\"http://www.w3.org/2000/svg\" height=\"24px\"viewBox=\"0 0 24 24\"\n",
              "     width=\"24px\">\n",
              "    <g>\n",
              "        <path d=\"M19 3H5c-1.1 0-2 .9-2 2v14c0 1.1.9 2 2 2h14c1.1 0 2-.9 2-2V5c0-1.1-.9-2-2-2zM9 17H7v-7h2v7zm4 0h-2V7h2v10zm4 0h-2v-4h2v4z\"/>\n",
              "    </g>\n",
              "</svg>\n",
              "  </button>\n",
              "\n",
              "<style>\n",
              "  .colab-df-quickchart {\n",
              "      --bg-color: #E8F0FE;\n",
              "      --fill-color: #1967D2;\n",
              "      --hover-bg-color: #E2EBFA;\n",
              "      --hover-fill-color: #174EA6;\n",
              "      --disabled-fill-color: #AAA;\n",
              "      --disabled-bg-color: #DDD;\n",
              "  }\n",
              "\n",
              "  [theme=dark] .colab-df-quickchart {\n",
              "      --bg-color: #3B4455;\n",
              "      --fill-color: #D2E3FC;\n",
              "      --hover-bg-color: #434B5C;\n",
              "      --hover-fill-color: #FFFFFF;\n",
              "      --disabled-bg-color: #3B4455;\n",
              "      --disabled-fill-color: #666;\n",
              "  }\n",
              "\n",
              "  .colab-df-quickchart {\n",
              "    background-color: var(--bg-color);\n",
              "    border: none;\n",
              "    border-radius: 50%;\n",
              "    cursor: pointer;\n",
              "    display: none;\n",
              "    fill: var(--fill-color);\n",
              "    height: 32px;\n",
              "    padding: 0;\n",
              "    width: 32px;\n",
              "  }\n",
              "\n",
              "  .colab-df-quickchart:hover {\n",
              "    background-color: var(--hover-bg-color);\n",
              "    box-shadow: 0 1px 2px rgba(60, 64, 67, 0.3), 0 1px 3px 1px rgba(60, 64, 67, 0.15);\n",
              "    fill: var(--button-hover-fill-color);\n",
              "  }\n",
              "\n",
              "  .colab-df-quickchart-complete:disabled,\n",
              "  .colab-df-quickchart-complete:disabled:hover {\n",
              "    background-color: var(--disabled-bg-color);\n",
              "    fill: var(--disabled-fill-color);\n",
              "    box-shadow: none;\n",
              "  }\n",
              "\n",
              "  .colab-df-spinner {\n",
              "    border: 2px solid var(--fill-color);\n",
              "    border-color: transparent;\n",
              "    border-bottom-color: var(--fill-color);\n",
              "    animation:\n",
              "      spin 1s steps(1) infinite;\n",
              "  }\n",
              "\n",
              "  @keyframes spin {\n",
              "    0% {\n",
              "      border-color: transparent;\n",
              "      border-bottom-color: var(--fill-color);\n",
              "      border-left-color: var(--fill-color);\n",
              "    }\n",
              "    20% {\n",
              "      border-color: transparent;\n",
              "      border-left-color: var(--fill-color);\n",
              "      border-top-color: var(--fill-color);\n",
              "    }\n",
              "    30% {\n",
              "      border-color: transparent;\n",
              "      border-left-color: var(--fill-color);\n",
              "      border-top-color: var(--fill-color);\n",
              "      border-right-color: var(--fill-color);\n",
              "    }\n",
              "    40% {\n",
              "      border-color: transparent;\n",
              "      border-right-color: var(--fill-color);\n",
              "      border-top-color: var(--fill-color);\n",
              "    }\n",
              "    60% {\n",
              "      border-color: transparent;\n",
              "      border-right-color: var(--fill-color);\n",
              "    }\n",
              "    80% {\n",
              "      border-color: transparent;\n",
              "      border-right-color: var(--fill-color);\n",
              "      border-bottom-color: var(--fill-color);\n",
              "    }\n",
              "    90% {\n",
              "      border-color: transparent;\n",
              "      border-bottom-color: var(--fill-color);\n",
              "    }\n",
              "  }\n",
              "</style>\n",
              "\n",
              "  <script>\n",
              "    async function quickchart(key) {\n",
              "      const quickchartButtonEl =\n",
              "        document.querySelector('#' + key + ' button');\n",
              "      quickchartButtonEl.disabled = true;  // To prevent multiple clicks.\n",
              "      quickchartButtonEl.classList.add('colab-df-spinner');\n",
              "      try {\n",
              "        const charts = await google.colab.kernel.invokeFunction(\n",
              "            'suggestCharts', [key], {});\n",
              "      } catch (error) {\n",
              "        console.error('Error during call to suggestCharts:', error);\n",
              "      }\n",
              "      quickchartButtonEl.classList.remove('colab-df-spinner');\n",
              "      quickchartButtonEl.classList.add('colab-df-quickchart-complete');\n",
              "    }\n",
              "    (() => {\n",
              "      let quickchartButtonEl =\n",
              "        document.querySelector('#df-90006618-4a47-41ff-bc83-e3ed5aa1e324 button');\n",
              "      quickchartButtonEl.style.display =\n",
              "        google.colab.kernel.accessAllowed ? 'block' : 'none';\n",
              "    })();\n",
              "  </script>\n",
              "</div>\n",
              "\n",
              "    </div>\n",
              "  </div>\n"
            ],
            "application/vnd.google.colaboratory.intrinsic+json": {
              "type": "dataframe",
              "variable_name": "df"
            }
          },
          "metadata": {},
          "execution_count": 6
        }
      ],
      "source": [
        "earthquake_properties_data = [\n",
        "    quake['properties'] for quake in earthquake_json['features']\n",
        "]\n",
        "df = pd.DataFrame(earthquake_properties_data)\n",
        "df.head()"
      ]
    },
    {
      "cell_type": "markdown",
      "metadata": {
        "id": "nVX2BKjSp1Kd"
      },
      "source": [
        "### (Optional) Write Data to CSV"
      ]
    },
    {
      "cell_type": "code",
      "execution_count": null,
      "metadata": {
        "id": "ovuZzmH8p1Kd"
      },
      "outputs": [],
      "source": [
        "df.to_csv('earthquakes.csv', index=False)"
      ]
    },
    {
      "cell_type": "markdown",
      "metadata": {
        "id": "2kqfHjIep1Kd"
      },
      "source": [
        "<hr>\n",
        "<div>\n",
        "    <a href=\"./2-creating_dataframes.ipynb\">\n",
        "        <button style=\"float: left;\">&#8592; Previous Notebook</button>\n",
        "    </a>\n",
        "    <a href=\"./4-inspecting_dataframes.ipynb\">\n",
        "        <button style=\"float: right;\">Next Notebook &#8594;</button>\n",
        "    </a>\n",
        "</div>\n",
        "<br>\n",
        "<hr>"
      ]
    }
  ],
  "metadata": {
    "kernelspec": {
      "display_name": "Python 3",
      "language": "python",
      "name": "python3"
    },
    "language_info": {
      "codemirror_mode": {
        "name": "ipython",
        "version": 3
      },
      "file_extension": ".py",
      "mimetype": "text/x-python",
      "name": "python",
      "nbconvert_exporter": "python",
      "pygments_lexer": "ipython3",
      "version": "3.7.3"
    },
    "colab": {
      "provenance": [],
      "include_colab_link": true
    }
  },
  "nbformat": 4,
  "nbformat_minor": 0
}